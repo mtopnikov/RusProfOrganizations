{
 "cells": [
  {
   "cell_type": "code",
   "execution_count": 187,
   "metadata": {},
   "outputs": [],
   "source": [
    "import pandas as pd\n",
    "import os\n",
    "import requests\n",
    "from bs4 import BeautifulSoup as soup\n",
    "from tqdm import tqdm_notebook as tqdm\n",
    "from time import sleep"
   ]
  },
  {
   "cell_type": "markdown",
   "metadata": {},
   "source": [
    "# Set up Page"
   ]
  },
  {
   "cell_type": "code",
   "execution_count": 188,
   "metadata": {},
   "outputs": [],
   "source": [
    "PAGE_URL = 'https://www.rusprofile.ru/codes/260000'"
   ]
  },
  {
   "cell_type": "code",
   "execution_count": 189,
   "metadata": {},
   "outputs": [],
   "source": [
    "def get_soup(url):\n",
    "    \"\"\"Makes tasty soup out of raw HTML\"\"\"\n",
    "    return soup(requests.get(url).text)"
   ]
  },
  {
   "cell_type": "markdown",
   "metadata": {},
   "source": [
    "# Get Number of Pages"
   ]
  },
  {
   "cell_type": "code",
   "execution_count": 190,
   "metadata": {},
   "outputs": [
    {
     "name": "stdout",
     "output_type": "stream",
     "text": [
      "Total pages to scrape from: 145\n"
     ]
    }
   ],
   "source": [
    "base_page_soup = get_soup(PAGE_URL) # get page soup to extract n of pages\n",
    "pg_list = base_page_soup.find('ul', class_=\"paging-list\") # find pagination item on the page\n",
    "N_PAGES = int(pg_list.find_all('li')[-2].text)\n",
    "iterator_arg = range(1, N_PAGES + 1) # define iterator for browsing pages\n",
    "print(f'Total pages to scrape from: {N_PAGES}')"
   ]
  },
  {
   "cell_type": "markdown",
   "metadata": {},
   "source": [
    "# Scapping functions"
   ]
  },
  {
   "cell_type": "code",
   "execution_count": 191,
   "metadata": {},
   "outputs": [],
   "source": [
    "def get_companies(page_soup):\n",
    "    \"\"\"Finds companies on the page. Returns tags list\"\"\"\n",
    "    return page_soup.find_all('div', class_ = 'company-item')"
   ]
  },
  {
   "cell_type": "code",
   "execution_count": 192,
   "metadata": {},
   "outputs": [],
   "source": [
    "month_dict = {\n",
    "    'января' : 1, 'февраля' : 2, 'марта' : 3, 'апреля' : 4, 'мая' : 5, 'июня' : 6,\n",
    "    'июля' : 7, 'августа' : 8, 'сентября' : 9, 'октября' : 10, 'ноября' : 11, 'декабря' : 12\n",
    "} # dictionary for transferring russian names into integer months numbers"
   ]
  },
  {
   "cell_type": "code",
   "execution_count": 199,
   "metadata": {},
   "outputs": [],
   "source": [
    "def scrape_company(company):\n",
    "    \"\"\"Extracts data from each company item\"\"\"\n",
    "    company_name = company.find('div', class_=\"company-item__title\").find('a').text.strip()\n",
    "    try:\n",
    "        company_status = company.find('span', class_=\"warning-text\").text.strip()\n",
    "    except:\n",
    "        company_status = 'Организация работает'\n",
    "    company_address = ', '.join(company.find('address',  class_=\"company-item__text\").text.strip().split(', ')[1:3])\n",
    "    lst = company.findAll('div', class_='company-item-info')[1].findAll('dd')[2:]\n",
    "    if len(lst) == 2:\n",
    "        [company_estdate, company_cap] =  [i.text.strip() for i in lst]\n",
    "        company_estdate = company_estdate.strip(' г.').split(' ')\n",
    "        company_estdate = pd.Timestamp(f'{company_estdate[2]}-{month_dict[company_estdate[1]]}-{company_estdate[0]}')\n",
    "        company_cap = pd.to_numeric(company_cap.strip(' руб.').replace(' ', '').replace(',', '.'))\n",
    "    elif len(lst) == 1:\n",
    "        company_estdate = lst[0].text.strip().strip(' г.').split(' ')\n",
    "        company_estdate = pd.Timestamp(f'{company_estdate[2]}-{month_dict[company_estdate[1]]}-{company_estdate[0]}')\n",
    "        company_cap = None\n",
    "    else:\n",
    "        company_estdate, company_cap = None, None\n",
    "    company_activity = company.findAll('div',  class_=\"company-item-info\")[-1].find('dd').text.strip()\n",
    "    return pd.Series({'name' : company_name, 'status' : company_status,\n",
    "                      'address' : company_address, 'est_date' : company_estdate,\n",
    "                      'cap' : company_cap, 'activity' : company_activity})"
   ]
  },
  {
   "cell_type": "markdown",
   "metadata": {},
   "source": [
    "# Scraping"
   ]
  },
  {
   "cell_type": "code",
   "execution_count": 194,
   "metadata": {},
   "outputs": [],
   "source": [
    "page_url_iterable = PAGE_URL + '/{}/' # Making the string changable"
   ]
  },
  {
   "cell_type": "code",
   "execution_count": 206,
   "metadata": {},
   "outputs": [],
   "source": [
    "cat_num = PAGE_URL.split('/')[-1]"
   ]
  },
  {
   "cell_type": "code",
   "execution_count": null,
   "metadata": {},
   "outputs": [],
   "source": [
    "SLEEP_TIME = 5 # Essential! Could be increased manually if needed. Defines pause betweeen opening the pages"
   ]
  },
  {
   "cell_type": "code",
   "execution_count": null,
   "metadata": {},
   "outputs": [],
   "source": [
    "df_list = []\n",
    "for page_n in tqdm(iterator_arg):\n",
    "    current_page_soup = get_soup(page_url_iterable.format(page_n))\n",
    "    sleep(SLEEP_TIME)\n",
    "    companies = get_companies(current_page_soup)\n",
    "    current_page_df = pd.DataFrame([scrape_company(company) for company in companies])\n",
    "    df_list.append(current_page_df)\n",
    "    \n",
    "full_cat_df = pd.concat(df_list)\n",
    "full_cat_df = full_cat_df.assign(base_category = int(cat_num))\n",
    "full_cat_df = full_cat_df[full_cat_df.activity.str.contains(cat_num[:2])]"
   ]
  },
  {
   "cell_type": "code",
   "execution_count": 209,
   "metadata": {},
   "outputs": [
    {
     "data": {
      "text/html": [
       "<div>\n",
       "<style scoped>\n",
       "    .dataframe tbody tr th:only-of-type {\n",
       "        vertical-align: middle;\n",
       "    }\n",
       "\n",
       "    .dataframe tbody tr th {\n",
       "        vertical-align: top;\n",
       "    }\n",
       "\n",
       "    .dataframe thead th {\n",
       "        text-align: right;\n",
       "    }\n",
       "</style>\n",
       "<table border=\"1\" class=\"dataframe\">\n",
       "  <thead>\n",
       "    <tr style=\"text-align: right;\">\n",
       "      <th></th>\n",
       "      <th>name</th>\n",
       "      <th>status</th>\n",
       "      <th>address</th>\n",
       "      <th>est_date</th>\n",
       "      <th>cap</th>\n",
       "      <th>activity</th>\n",
       "      <th>base_category</th>\n",
       "    </tr>\n",
       "  </thead>\n",
       "  <tbody>\n",
       "    <tr>\n",
       "      <td>0</td>\n",
       "      <td>ООО \"Феррит-Сервис\"</td>\n",
       "      <td>Организация ликвидирована</td>\n",
       "      <td>Астраханская область, город Астрахань</td>\n",
       "      <td>2004-07-21</td>\n",
       "      <td>15380.0</td>\n",
       "      <td>26 Производство компьютеров, электронных и опт...</td>\n",
       "      <td>260000</td>\n",
       "    </tr>\n",
       "    <tr>\n",
       "      <td>1</td>\n",
       "      <td>ООО НПФ\"Элепс\"</td>\n",
       "      <td>Организация работает</td>\n",
       "      <td>республика Татарстан, город Казань</td>\n",
       "      <td>2001-11-30</td>\n",
       "      <td>700000.0</td>\n",
       "      <td>26.60.4 Производство инструмента, оборудования...</td>\n",
       "      <td>260000</td>\n",
       "    </tr>\n",
       "    <tr>\n",
       "      <td>2</td>\n",
       "      <td>ПАО \"Нептун\"</td>\n",
       "      <td>Организация работает</td>\n",
       "      <td>Ставропольский край, город Ставрополь</td>\n",
       "      <td>1994-04-11</td>\n",
       "      <td>62420.5</td>\n",
       "      <td>26.51.7 Производство приборов и аппаратуры для...</td>\n",
       "      <td>260000</td>\n",
       "    </tr>\n",
       "    <tr>\n",
       "      <td>3</td>\n",
       "      <td>АО \"Экон\"</td>\n",
       "      <td>Организация работает</td>\n",
       "      <td>Калужская область, город Обнинск</td>\n",
       "      <td>1997-01-15</td>\n",
       "      <td>10000.0</td>\n",
       "      <td>26.51.5 Производство приборов для контроля про...</td>\n",
       "      <td>260000</td>\n",
       "    </tr>\n",
       "    <tr>\n",
       "      <td>4</td>\n",
       "      <td>АО \"АПЗ\"</td>\n",
       "      <td>Организация работает</td>\n",
       "      <td>Нижегородская область, город Арзамас</td>\n",
       "      <td>1993-09-06</td>\n",
       "      <td>192636600.0</td>\n",
       "      <td>26.51.6 Производство прочих приборов, датчиков...</td>\n",
       "      <td>260000</td>\n",
       "    </tr>\n",
       "  </tbody>\n",
       "</table>\n",
       "</div>"
      ],
      "text/plain": [
       "                  name                     status  \\\n",
       "0  ООО \"Феррит-Сервис\"  Организация ликвидирована   \n",
       "1       ООО НПФ\"Элепс\"       Организация работает   \n",
       "2         ПАО \"Нептун\"       Организация работает   \n",
       "3            АО \"Экон\"       Организация работает   \n",
       "4             АО \"АПЗ\"       Организация работает   \n",
       "\n",
       "                                 address   est_date          cap  \\\n",
       "0  Астраханская область, город Астрахань 2004-07-21      15380.0   \n",
       "1     республика Татарстан, город Казань 2001-11-30     700000.0   \n",
       "2  Ставропольский край, город Ставрополь 1994-04-11      62420.5   \n",
       "3       Калужская область, город Обнинск 1997-01-15      10000.0   \n",
       "4   Нижегородская область, город Арзамас 1993-09-06  192636600.0   \n",
       "\n",
       "                                            activity  base_category  \n",
       "0  26 Производство компьютеров, электронных и опт...         260000  \n",
       "1  26.60.4 Производство инструмента, оборудования...         260000  \n",
       "2  26.51.7 Производство приборов и аппаратуры для...         260000  \n",
       "3  26.51.5 Производство приборов для контроля про...         260000  \n",
       "4  26.51.6 Производство прочих приборов, датчиков...         260000  "
      ]
     },
     "execution_count": 209,
     "metadata": {},
     "output_type": "execute_result"
    }
   ],
   "source": [
    "full_cat_df.head()"
   ]
  },
  {
   "cell_type": "code",
   "execution_count": 211,
   "metadata": {},
   "outputs": [],
   "source": [
    "full_cat_df.to_csv(f'data/database_{cat_num}.csv', index = None, encoding = 'utf-8')"
   ]
  }
 ],
 "metadata": {
  "kernelspec": {
   "display_name": "Python 3",
   "language": "python",
   "name": "python3"
  },
  "language_info": {
   "codemirror_mode": {
    "name": "ipython",
    "version": 3
   },
   "file_extension": ".py",
   "mimetype": "text/x-python",
   "name": "python",
   "nbconvert_exporter": "python",
   "pygments_lexer": "ipython3",
   "version": "3.7.4"
  }
 },
 "nbformat": 4,
 "nbformat_minor": 2
}
